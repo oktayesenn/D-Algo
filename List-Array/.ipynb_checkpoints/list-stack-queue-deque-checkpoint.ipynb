{
 "cells": [
  {
   "cell_type": "code",
   "execution_count": 2,
   "id": "f61ade50",
   "metadata": {},
   "outputs": [],
   "source": [
    "# Array, List, Stack, Queue, Deque\n"
   ]
  },
  {
   "cell_type": "code",
   "execution_count": 5,
   "id": "b8c51b28",
   "metadata": {},
   "outputs": [],
   "source": [
    "#list\n",
    "myList = [1,2,3,4,5]"
   ]
  },
  {
   "cell_type": "code",
   "execution_count": 6,
   "id": "405b98d2",
   "metadata": {},
   "outputs": [
    {
     "data": {
      "text/plain": [
       "list"
      ]
     },
     "execution_count": 6,
     "metadata": {},
     "output_type": "execute_result"
    }
   ],
   "source": [
    "type(myList)"
   ]
  },
  {
   "cell_type": "code",
   "execution_count": 7,
   "id": "59f86044",
   "metadata": {},
   "outputs": [],
   "source": [
    "myList = []"
   ]
  },
  {
   "cell_type": "code",
   "execution_count": 8,
   "id": "2ced2db4",
   "metadata": {},
   "outputs": [],
   "source": [
    "myList.append(1)"
   ]
  },
  {
   "cell_type": "code",
   "execution_count": 9,
   "id": "130b7287",
   "metadata": {},
   "outputs": [],
   "source": [
    "import array as arr"
   ]
  },
  {
   "cell_type": "code",
   "execution_count": 10,
   "id": "755c77d8",
   "metadata": {},
   "outputs": [],
   "source": [
    "myArray = arr.array(\"i\", [3, 6, 9, 12])"
   ]
  },
  {
   "cell_type": "code",
   "execution_count": 11,
   "id": "41b724b8",
   "metadata": {},
   "outputs": [],
   "source": [
    "myArray.append(15)"
   ]
  },
  {
   "cell_type": "code",
   "execution_count": 12,
   "id": "02b7f09d",
   "metadata": {},
   "outputs": [
    {
     "data": {
      "text/plain": [
       "array('i', [3, 6, 9, 12, 15])"
      ]
     },
     "execution_count": 12,
     "metadata": {},
     "output_type": "execute_result"
    }
   ],
   "source": [
    "myArray\n"
   ]
  },
  {
   "cell_type": "code",
   "execution_count": 13,
   "id": "235968e3",
   "metadata": {},
   "outputs": [],
   "source": [
    "myList = [1,2,3,4,5]"
   ]
  },
  {
   "cell_type": "code",
   "execution_count": 14,
   "id": "a73979b7",
   "metadata": {},
   "outputs": [],
   "source": [
    "otherList = [6,7,8]"
   ]
  },
  {
   "cell_type": "code",
   "execution_count": 15,
   "id": "9279530c",
   "metadata": {},
   "outputs": [],
   "source": [
    "myList.extend(otherList)"
   ]
  },
  {
   "cell_type": "code",
   "execution_count": 16,
   "id": "0dd2ec4c",
   "metadata": {},
   "outputs": [
    {
     "data": {
      "text/plain": [
       "[1, 2, 3, 4, 5, 6, 7, 8]"
      ]
     },
     "execution_count": 16,
     "metadata": {},
     "output_type": "execute_result"
    }
   ],
   "source": [
    "myList"
   ]
  },
  {
   "cell_type": "code",
   "execution_count": 17,
   "id": "90eeaf95",
   "metadata": {},
   "outputs": [],
   "source": [
    "result = [0] * 8"
   ]
  },
  {
   "cell_type": "code",
   "execution_count": 18,
   "id": "50915285",
   "metadata": {},
   "outputs": [
    {
     "data": {
      "text/plain": [
       "[0, 0, 0, 0, 0, 0, 0, 0]"
      ]
     },
     "execution_count": 18,
     "metadata": {},
     "output_type": "execute_result"
    }
   ],
   "source": [
    "result"
   ]
  },
  {
   "cell_type": "code",
   "execution_count": 19,
   "id": "fae1e09a",
   "metadata": {},
   "outputs": [
    {
     "data": {
      "text/plain": [
       "list"
      ]
     },
     "execution_count": 19,
     "metadata": {},
     "output_type": "execute_result"
    }
   ],
   "source": [
    "type(result)"
   ]
  },
  {
   "cell_type": "code",
   "execution_count": 20,
   "id": "78a64ac4",
   "metadata": {},
   "outputs": [],
   "source": [
    "result[3] = 2"
   ]
  },
  {
   "cell_type": "code",
   "execution_count": 21,
   "id": "08813c2d",
   "metadata": {},
   "outputs": [
    {
     "data": {
      "text/plain": [
       "[0, 0, 0, 2, 0, 0, 0, 0]"
      ]
     },
     "execution_count": 21,
     "metadata": {},
     "output_type": "execute_result"
    }
   ],
   "source": [
    "result"
   ]
  },
  {
   "cell_type": "code",
   "execution_count": 22,
   "id": "8a159178",
   "metadata": {},
   "outputs": [],
   "source": [
    "import sys"
   ]
  },
  {
   "cell_type": "code",
   "execution_count": 23,
   "id": "a0b1527b",
   "metadata": {},
   "outputs": [
    {
     "name": "stdout",
     "output_type": "stream",
     "text": [
      "Length: 0 Byte: 56\n",
      "Length: 1 Byte: 88\n",
      "Length: 2 Byte: 88\n",
      "Length: 3 Byte: 88\n",
      "Length: 4 Byte: 88\n",
      "Length: 5 Byte: 120\n",
      "Length: 6 Byte: 120\n",
      "Length: 7 Byte: 120\n",
      "Length: 8 Byte: 120\n",
      "Length: 9 Byte: 184\n",
      "Length: 10 Byte: 184\n",
      "Length: 11 Byte: 184\n",
      "Length: 12 Byte: 184\n",
      "Length: 13 Byte: 184\n",
      "Length: 14 Byte: 184\n",
      "Length: 15 Byte: 184\n",
      "Length: 16 Byte: 184\n",
      "Length: 17 Byte: 248\n",
      "Length: 18 Byte: 248\n",
      "Length: 19 Byte: 248\n",
      "Length: 20 Byte: 248\n",
      "Length: 21 Byte: 248\n",
      "Length: 22 Byte: 248\n",
      "Length: 23 Byte: 248\n",
      "Length: 24 Byte: 248\n",
      "Length: 25 Byte: 312\n",
      "Length: 26 Byte: 312\n",
      "Length: 27 Byte: 312\n",
      "Length: 28 Byte: 312\n",
      "Length: 29 Byte: 312\n"
     ]
    }
   ],
   "source": [
    "n = 30\n",
    "myDynamicArray = []\n",
    "\n",
    "for i in range(0,n):\n",
    "    \n",
    "    myLength = len(myDynamicArray)\n",
    "    myByte = sys.getsizeof(myDynamicArray)\n",
    "    print(f\"Length: {myLength} Byte: {myByte}\")\n",
    "    myDynamicArray.append(n)"
   ]
  },
  {
   "cell_type": "code",
   "execution_count": null,
   "id": "4dc6ed6f",
   "metadata": {},
   "outputs": [],
   "source": []
  }
 ],
 "metadata": {
  "kernelspec": {
   "display_name": "Python 3 (ipykernel)",
   "language": "python",
   "name": "python3"
  },
  "language_info": {
   "codemirror_mode": {
    "name": "ipython",
    "version": 3
   },
   "file_extension": ".py",
   "mimetype": "text/x-python",
   "name": "python",
   "nbconvert_exporter": "python",
   "pygments_lexer": "ipython3",
   "version": "3.9.13"
  }
 },
 "nbformat": 4,
 "nbformat_minor": 5
}
