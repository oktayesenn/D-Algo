{
 "cells": [
  {
   "cell_type": "code",
   "execution_count": 1,
   "id": "d1763545",
   "metadata": {},
   "outputs": [],
   "source": [
    "class Node:\n",
    "    \n",
    "    def __init__(self, value):\n",
    "        \n",
    "        self.value = value\n",
    "        self.left = None\n",
    "        self.right = None\n",
    "        "
   ]
  },
  {
   "cell_type": "code",
   "execution_count": 17,
   "id": "f0e1ddb1",
   "metadata": {},
   "outputs": [],
   "source": [
    "class BinarySearchTree:\n",
    "    \n",
    "    def __init__(self):\n",
    "        self.root = None\n",
    "    \n",
    "    def insert(self, value):\n",
    "        \n",
    "        newNode = Node(value)\n",
    "        \n",
    "        if self.root is None:\n",
    "            \n",
    "            self.root = newNode\n",
    "            return True\n",
    "        tempNode = self.root\n",
    "        \n",
    "        while True:\n",
    "            \n",
    "            if newNode.value == tempNode.value:\n",
    "                return False\n",
    "            \n",
    "            if newNode.value < tempNode.value:\n",
    "                if tempNode.left is None:\n",
    "                    tempNode.left = newNode\n",
    "                    return True\n",
    "                tempNode = tempNode.left\n",
    "                \n",
    "            else:\n",
    "                if tempNode.right is None:\n",
    "                    tempNode.right = newNode\n",
    "                    return True\n",
    "                tempNode = tempNode.right\n",
    "        \n",
    "        \n",
    "        # Contains Tree, Treeverse#\n",
    "    def contains(self, value):\n",
    "        \n",
    "        tempNode = self.root\n",
    "        \n",
    "        while tempNode:\n",
    "            if value < tempNode.value:\n",
    "                tempNode = tempNode.left\n",
    "            elif value > tempNode.value:\n",
    "                tempNode = tempNode.right\n",
    "            else:\n",
    "                return True\n",
    "        return False"
   ]
  },
  {
   "cell_type": "code",
   "execution_count": 18,
   "id": "936cbee0",
   "metadata": {},
   "outputs": [],
   "source": [
    "myTree = BinarySearchTree()"
   ]
  },
  {
   "cell_type": "code",
   "execution_count": 19,
   "id": "1147682b",
   "metadata": {},
   "outputs": [
    {
     "data": {
      "text/plain": [
       "True"
      ]
     },
     "execution_count": 19,
     "metadata": {},
     "output_type": "execute_result"
    }
   ],
   "source": [
    "myTree.insert(10)"
   ]
  },
  {
   "cell_type": "code",
   "execution_count": 20,
   "id": "130713cb",
   "metadata": {},
   "outputs": [
    {
     "data": {
      "text/plain": [
       "False"
      ]
     },
     "execution_count": 20,
     "metadata": {},
     "output_type": "execute_result"
    }
   ],
   "source": [
    "myTree.insert(10)"
   ]
  },
  {
   "cell_type": "code",
   "execution_count": 21,
   "id": "20c52a01",
   "metadata": {},
   "outputs": [
    {
     "data": {
      "text/plain": [
       "True"
      ]
     },
     "execution_count": 21,
     "metadata": {},
     "output_type": "execute_result"
    }
   ],
   "source": [
    "myTree.insert(8)"
   ]
  },
  {
   "cell_type": "code",
   "execution_count": 22,
   "id": "8a8e628d",
   "metadata": {},
   "outputs": [
    {
     "data": {
      "text/plain": [
       "True"
      ]
     },
     "execution_count": 22,
     "metadata": {},
     "output_type": "execute_result"
    }
   ],
   "source": [
    "myTree.insert(20)"
   ]
  },
  {
   "cell_type": "code",
   "execution_count": 23,
   "id": "e639813f",
   "metadata": {},
   "outputs": [
    {
     "data": {
      "text/plain": [
       "True"
      ]
     },
     "execution_count": 23,
     "metadata": {},
     "output_type": "execute_result"
    }
   ],
   "source": [
    "myTree.contains(8)"
   ]
  },
  {
   "cell_type": "code",
   "execution_count": 24,
   "id": "7170d45b",
   "metadata": {},
   "outputs": [
    {
     "data": {
      "text/plain": [
       "False"
      ]
     },
     "execution_count": 24,
     "metadata": {},
     "output_type": "execute_result"
    }
   ],
   "source": [
    "myTree.contains(25)"
   ]
  },
  {
   "cell_type": "code",
   "execution_count": null,
   "id": "aebaa090",
   "metadata": {},
   "outputs": [],
   "source": []
  }
 ],
 "metadata": {
  "kernelspec": {
   "display_name": "Python 3 (ipykernel)",
   "language": "python",
   "name": "python3"
  },
  "language_info": {
   "codemirror_mode": {
    "name": "ipython",
    "version": 3
   },
   "file_extension": ".py",
   "mimetype": "text/x-python",
   "name": "python",
   "nbconvert_exporter": "python",
   "pygments_lexer": "ipython3",
   "version": "3.9.13"
  }
 },
 "nbformat": 4,
 "nbformat_minor": 5
}
