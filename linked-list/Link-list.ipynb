{
 "cells": [
  {
   "cell_type": "code",
   "execution_count": 1,
   "id": "861935ca",
   "metadata": {},
   "outputs": [],
   "source": [
    "#Node -> Linked List"
   ]
  },
  {
   "cell_type": "code",
   "execution_count": 2,
   "id": "6890863e",
   "metadata": {},
   "outputs": [],
   "source": [
    "#Singly Linked List"
   ]
  },
  {
   "cell_type": "code",
   "execution_count": 3,
   "id": "497e388c",
   "metadata": {},
   "outputs": [],
   "source": [
    "class Node():\n",
    "    \n",
    "    def __init__(self,value):\n",
    "        \n",
    "        self.value = value\n",
    "        self.nextNode = None"
   ]
  },
  {
   "cell_type": "code",
   "execution_count": 4,
   "id": "cb9edc68",
   "metadata": {},
   "outputs": [],
   "source": [
    "firstNode = Node(10)"
   ]
  },
  {
   "cell_type": "code",
   "execution_count": 5,
   "id": "c371ded4",
   "metadata": {},
   "outputs": [],
   "source": [
    "secondNode = Node(20)"
   ]
  },
  {
   "cell_type": "code",
   "execution_count": 6,
   "id": "91a1cde9",
   "metadata": {},
   "outputs": [],
   "source": [
    "thirdNode = Node(30)"
   ]
  },
  {
   "cell_type": "code",
   "execution_count": 7,
   "id": "ba78bbf7",
   "metadata": {},
   "outputs": [],
   "source": [
    "firstNode.nextNode = secondNode"
   ]
  },
  {
   "cell_type": "code",
   "execution_count": 8,
   "id": "70f965cc",
   "metadata": {},
   "outputs": [],
   "source": [
    "secondNode.nextNode = thirdNode"
   ]
  },
  {
   "cell_type": "code",
   "execution_count": 9,
   "id": "5e3fd1e9",
   "metadata": {},
   "outputs": [
    {
     "data": {
      "text/plain": [
       "30"
      ]
     },
     "execution_count": 9,
     "metadata": {},
     "output_type": "execute_result"
    }
   ],
   "source": [
    "firstNode.nextNode.nextNode.value"
   ]
  },
  {
   "cell_type": "code",
   "execution_count": 10,
   "id": "60235df2",
   "metadata": {},
   "outputs": [],
   "source": [
    "class DoublyNode():\n",
    "    \n",
    "    def __init__(self,value):\n",
    "        self.value = value\n",
    "        self.nextNode = None\n",
    "        self.prevNode = None"
   ]
  },
  {
   "cell_type": "code",
   "execution_count": 11,
   "id": "9fc26b17",
   "metadata": {},
   "outputs": [],
   "source": [
    "x = DoublyNode(5)\n",
    "y = DoublyNode(10)\n",
    "z = DoublyNode(15)"
   ]
  },
  {
   "cell_type": "code",
   "execution_count": 12,
   "id": "25ff3c59",
   "metadata": {},
   "outputs": [],
   "source": [
    "x.nextNode = y\n",
    "y.prevNode = x"
   ]
  },
  {
   "cell_type": "code",
   "execution_count": 13,
   "id": "cd851a7b",
   "metadata": {},
   "outputs": [],
   "source": [
    "y.nextNode = z\n",
    "z.prevNode = y"
   ]
  },
  {
   "cell_type": "code",
   "execution_count": 14,
   "id": "808fdf64",
   "metadata": {},
   "outputs": [
    {
     "data": {
      "text/plain": [
       "15"
      ]
     },
     "execution_count": 14,
     "metadata": {},
     "output_type": "execute_result"
    }
   ],
   "source": [
    "x.nextNode.nextNode.value"
   ]
  },
  {
   "cell_type": "code",
   "execution_count": 15,
   "id": "ee5e56fc",
   "metadata": {},
   "outputs": [
    {
     "data": {
      "text/plain": [
       "5"
      ]
     },
     "execution_count": 15,
     "metadata": {},
     "output_type": "execute_result"
    }
   ],
   "source": [
    "z.prevNode.prevNode.value"
   ]
  },
  {
   "cell_type": "code",
   "execution_count": null,
   "id": "ff5f902a",
   "metadata": {},
   "outputs": [],
   "source": []
  }
 ],
 "metadata": {
  "kernelspec": {
   "display_name": "Python 3 (ipykernel)",
   "language": "python",
   "name": "python3"
  },
  "language_info": {
   "codemirror_mode": {
    "name": "ipython",
    "version": 3
   },
   "file_extension": ".py",
   "mimetype": "text/x-python",
   "name": "python",
   "nbconvert_exporter": "python",
   "pygments_lexer": "ipython3",
   "version": "3.9.13"
  }
 },
 "nbformat": 4,
 "nbformat_minor": 5
}
